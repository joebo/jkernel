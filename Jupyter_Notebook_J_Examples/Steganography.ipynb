{
 "cells": [
  {
   "cell_type": "markdown",
   "metadata": {},
   "source": [
    "# Steganography - the J way"
   ]
  },
  {
   "cell_type": "markdown",
   "metadata": {},
   "source": [
    "Steganography is the art of hiding data within data.\n",
    "\n",
    "This example is from the Journal of J (VOL.2, NO.2 OCTOBER 2013) (ISSN: 2174-9280)\n",
    "\n",
    "http://www.journalofj.com/images/pdf/V2.No.2.pdf"
   ]
  },
  {
   "cell_type": "code",
   "execution_count": null,
   "metadata": {},
   "outputs": [],
   "source": [
    "NB. Required scripts\n",
    "require 'graphics/bmp viewmat'"
   ]
  },
  {
   "cell_type": "code",
   "execution_count": null,
   "metadata": {},
   "outputs": [],
   "source": [
    "NB. Convert string to bit-stream\n",
    "NB. Usage: <length> str2bit '<string>'\n",
    "NB. str2bit =: 4 : ',/_1}.#:((#y),(a.i.y),((0>.((x-1)-#y))$255?255),128)'\n",
    "str2bit =: 4 : ',/_1}.#:((int2rgb #y),(a.i.y),((0>.((x-1)-#y))$255?255),128)'\n",
    "\n",
    "NB. Convert bit-stream to string\n",
    "NB. Usage: bit2str <bit-stream>\n",
    "NB. bit2str =: 3 : '(#.(1+i.#.{.(((8%~#y),8)$y)){(((8%~#y),8)$y)){a.'\n",
    "bit2str =: 3 : '(#.(3+i. rgb2int #.3{.(((8%~#y),8)$y)){(((8%~#y),8)$y)){a.'\n",
    "\n",
    "NB. Convert rgb-image-array to integer-image-array\n",
    "NB. Usage: rgb2int <integer-image-array>\n",
    "rgb2int =: 3 : '<.(((|:0{|:y)*2^16)+((|:1{|:y)*2^8)+(|:2{|:y))'\n",
    "\n",
    "NB. Convert integer-image-array to rgb-image-array\n",
    "NB. Usage: int2rgb <integer-image-array>\n",
    "int2rgb =: 3 : '|:>(|:(<.256|(<.(<.y%256)%256)));(|:(<.256|(<.y%256)));(|:(<.256|y))'\n",
    "\n",
    "NB. Convert integer array to string\n",
    "int2str =: 3 : 'y { a.'\n",
    "\n",
    "NB. Convert string to integer array\n",
    "str2int =: 3 : 'a. i. y'\n",
    "\n",
    "NB. Bitwise XOR\n",
    "xor     =: 22 b."
   ]
  },
  {
   "cell_type": "code",
   "execution_count": null,
   "metadata": {},
   "outputs": [],
   "source": [
    "NB. Arc4 algorithm (based on Kym Farnik's work)\n",
    "NB. x = Key to use for encrypting and decrypting\n",
    "NB. y = Plain Text or Encypted Text\n",
    "NB.\n",
    "NB. x can also be an integer array with integers >= 0 and <= 255 with a maximum\n",
    "NB. length of 256 elements\n",
    "crypt =: 4 : 0\n",
    "   ky =. 256 $ str2int ^: ((32{a.)=({.0$x)) x    NB. Key  in x as integer array\n",
    "   tx =. str2int ^: ((32{a.)=({.0$y)) y          NB. Text in y as integer array\n",
    "   sv =. i. 256                                  NB. State Vector\n",
    "   ii =. jj =. 0                                 NB. Set ii,jj to zero\n",
    "   while. ii < 256 do.                           NB. Setup state vector\n",
    "      jj =. 256 | jj + (ii{sv) + ii{ky           NB. jj = (jj+state[ii]+key[ii]) % 256\n",
    "      sv =. ((ii,jj){sv) (jj,ii)}sv              NB. Swap state [ii] and [jj]\n",
    "      ii =. >: ii                                NB. Increment ii\n",
    "   end.\n",
    "   ii =. jj =. kk =. 0                           NB. Set ii,jj,kk to zero\n",
    "   while. kk < #tx do.                           NB. Traverse string\n",
    "      ii =. 256 | >: ii                          NB. Increment i mod 256\n",
    "      jj =. 256 | jj + ii{sv                     NB. Next jj (jj = jj+state[ii]) % 256)\n",
    "      sw =. (ii,jj){sv                           NB. Get states to swap\n",
    "      sv =. sw (jj,ii)}sv                        NB. Swap state [ii] and [jj]\n",
    "      tx =. (((256|+/sw){sv) xor kk{tx) kk}tx    NB. k XOR string element[n]\n",
    "      kk =. >: kk                                NB. Increment n\n",
    "   end.\n",
    "   int2str tx                                    NB. tx contains encrypted integer array\n",
    ")"
   ]
  },
  {
   "cell_type": "code",
   "execution_count": null,
   "metadata": {},
   "outputs": [],
   "source": [
    "NB. Hides a message in a bitmap-image\n",
    "NB. Usage: '<Message-to-hide>';<Password> hidemsg '<Bitmap-image>'\n",
    "hidemsg =: 4 : 0\n",
    "   tex =. >0{x                                      NB. Extract 1st x-arg: message\n",
    "   pwd =. >1{x                                      NB. Extract 2nd x-arg: password\n",
    "   bmp =. y                                         NB. Bitmap image array\n",
    "   dim =. $bmp                                      NB. Get bitmap dimensions\n",
    "   msg =. (*/dim)$(*/dim) str2bit (pwd crypt tex)   NB. Encrypt text, make bit stream\n",
    "   rgb =. int2rgb bmp                               NB. Convert integers to RGB triples\n",
    "   rpl =. |:0{|:rgb                                 NB. Extract red bit plane\n",
    "   gpl =. |:1{|:rgb                                 NB. Extract green bit plane\n",
    "   bpl =. ,/|:2{|:rgb                               NB. Extract blue bit plane\n",
    "   bpl =. dim $ ((bpl - 2|bpl) + msg)               NB. Embed encrypted text\n",
    "   bmp =. rgb2int |:>(|:rpl);(|:gpl);(|:bpl)        NB. Create new bitmap image\n",
    ")"
   ]
  },
  {
   "cell_type": "code",
   "execution_count": null,
   "metadata": {},
   "outputs": [],
   "source": [
    "NB. Extract hidden message from bitmap-image\n",
    "NB. Usage: <Password> showmsg '<Bitmap-image>'\n",
    "showmsg =: 4 : 0\n",
    "   pwd =. x                                         NB. Password in x-arg\n",
    "   bmp =. y                                         NB. Bitmap image array\n",
    "   rgb =. int2rgb bmp                               NB. Convert integers to RGB triples\n",
    "   bpl =. 2|,/|:2{|:rgb                             NB. Extract blue bit plane (MOD 2)\n",
    "   msg =. bit2str bpl                               NB. Convert bits back to string\n",
    "   tex =. pwd crypt msg                             NB. Decrypt and return plain text\n",
    ")"
   ]
  },
  {
   "cell_type": "code",
   "execution_count": null,
   "metadata": {},
   "outputs": [],
   "source": [
    "NB. Read bitmap image\n",
    "img =: readbmp jpath '~user/Jupyter_Notebook_J_Example_Data/moon.bmp'"
   ]
  },
  {
   "cell_type": "code",
   "execution_count": null,
   "metadata": {},
   "outputs": [],
   "source": [
    "NB. Show bitmap image\n",
    "viewrgb img"
   ]
  },
  {
   "cell_type": "code",
   "execution_count": null,
   "metadata": {},
   "outputs": [],
   "source": [
    "NB. Encrypt and hide secret message\n",
    "stegimg =: ('The Truth Is Out There';'My Secret Password') hidemsg img"
   ]
  },
  {
   "cell_type": "code",
   "execution_count": null,
   "metadata": {},
   "outputs": [],
   "source": [
    "NB. Show bitmap image with embedded message. Is there any difference visible to the naked eye ???\n",
    "viewrgb stegimg"
   ]
  },
  {
   "cell_type": "code",
   "execution_count": null,
   "metadata": {},
   "outputs": [],
   "source": [
    "NB. Extract secret message\n",
    "]secmsg =: 'My Secret Password' showmsg stegimg"
   ]
  },
  {
   "cell_type": "code",
   "execution_count": null,
   "metadata": {},
   "outputs": [],
   "source": []
  }
 ],
 "metadata": {
  "kernelspec": {
   "display_name": "J",
   "language": "J",
   "name": "jkernel"
  },
  "language_info": {
   "file_extension": "ijs",
   "mimetype": "text/J",
   "name": "J"
  }
 },
 "nbformat": 4,
 "nbformat_minor": 4
}
