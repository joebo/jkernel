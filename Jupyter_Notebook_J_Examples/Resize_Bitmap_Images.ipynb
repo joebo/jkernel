{
 "cells": [
  {
   "cell_type": "markdown",
   "metadata": {},
   "source": [
    "# Resize Bitmap Images"
   ]
  },
  {
   "cell_type": "markdown",
   "metadata": {},
   "source": [
    "This example will show that a bitmap image is just an array of numbers.\n",
    "\n",
    "Using the array programming capabilities of the J programming language, we may manipulate a bitmap image\n",
    "like any other array."
   ]
  },
  {
   "cell_type": "code",
   "execution_count": null,
   "metadata": {},
   "outputs": [],
   "source": [
    "NB. Load required scripts\n",
    "load 'graphics/bmp viewmat'"
   ]
  },
  {
   "cell_type": "code",
   "execution_count": null,
   "metadata": {},
   "outputs": [],
   "source": [
    "NB. Load bitmap image\n",
    "img =: readbmp jpath '~user/Jupyter_Notebook_J_Example_Data/galaxy.bmp'"
   ]
  },
  {
   "cell_type": "code",
   "execution_count": null,
   "metadata": {},
   "outputs": [],
   "source": [
    "NB. Show bitmap image\n",
    "viewrgb img"
   ]
  },
  {
   "cell_type": "code",
   "execution_count": null,
   "metadata": {},
   "outputs": [],
   "source": [
    "NB. Define a utility verb to resize an array (bitmap image)\n",
    "NB. Resize image (maintain aspect ratio)\n",
    "NB. Usage: (w,h) resize <image-data>\n",
    "resize =: 4 : 0\n",
    "   ss =. $y                         NB. Source size\n",
    "   ds =. <.ss*<./(|.x)%ss           NB. Destination size\n",
    "   fa =. ss%ds                      NB. Factor height/width\n",
    "   oh =. i. 0{ds                    NB. Height array\n",
    "   ow =. i. 1{ds                    NB. Width array\n",
    "   xh =. <. (0{fa) * oh             NB. Multiply with factor and floor\n",
    "   xw =. <. (1{fa) * ow             NB. Multiply with factor and floor\n",
    "   oi =. (<(xh;xw)){y               NB. Generator output image\n",
    ")"
   ]
  },
  {
   "cell_type": "code",
   "execution_count": null,
   "metadata": {},
   "outputs": [],
   "source": [
    "NB. Show the original dimensions of the bitmap image (array)\n",
    "$img"
   ]
  },
  {
   "cell_type": "code",
   "execution_count": null,
   "metadata": {},
   "outputs": [],
   "source": [
    "NB. Resize the original bitmap image to half its size\n",
    "viewrgb (240 160 resize img)"
   ]
  },
  {
   "cell_type": "code",
   "execution_count": null,
   "metadata": {},
   "outputs": [],
   "source": [
    "NB. Resize the original bitmap image to double its size\n",
    "viewrgb (960 640 resize img)"
   ]
  },
  {
   "cell_type": "code",
   "execution_count": null,
   "metadata": {},
   "outputs": [],
   "source": [
    "NB. Define another utility verb to resize an array (bitmap image)\n",
    "NB. Resize image (NOT maintain aspect ratio)\n",
    "NB. Usage: (w,h) resize <image-data>\n",
    "resize2 =: 4 : 0\n",
    "   ss =. $y                         NB. Source size\n",
    "   ds =. <.ss*(|.x)%ss              NB. Destination size\n",
    "   fa =. ss%ds                      NB. Factor height/width\n",
    "   oh =. i. 0{ds                    NB. Height array\n",
    "   ow =. i. 1{ds                    NB. Width array\n",
    "   xh =. <. (0{fa) * oh             NB. Multiply with factor and floor\n",
    "   xw =. <. (1{fa) * ow             NB. Multiply with factor and floor\n",
    "   oi =. (<(xh;xw)){y               NB. Generator output image\n",
    ")"
   ]
  },
  {
   "cell_type": "code",
   "execution_count": null,
   "metadata": {},
   "outputs": [],
   "source": [
    "NB. Resize the original bitmap image without maintain aspect ration\n",
    "viewrgb (300 300 resize2 img)"
   ]
  },
  {
   "cell_type": "code",
   "execution_count": null,
   "metadata": {},
   "outputs": [],
   "source": []
  }
 ],
 "metadata": {
  "kernelspec": {
   "display_name": "J",
   "language": "J",
   "name": "jkernel"
  },
  "language_info": {
   "file_extension": "ijs",
   "mimetype": "text/J",
   "name": "J"
  }
 },
 "nbformat": 4,
 "nbformat_minor": 4
}
