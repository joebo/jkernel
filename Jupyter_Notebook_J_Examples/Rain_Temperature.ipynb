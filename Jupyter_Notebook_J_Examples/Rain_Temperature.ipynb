{
 "cells": [
  {
   "cell_type": "markdown",
   "metadata": {},
   "source": [
    "# Rain / Temperature - Analysis\n",
    "# Switzerland 1864-2013"
   ]
  },
  {
   "cell_type": "markdown",
   "metadata": {},
   "source": [
    "This example is a jupyter notebook adoption from the small desktop application I wrote some time ago, to analyze\n",
    "weather data (rain, temperature) from swiss weather stations from year 1864 - 2013.\n",
    "\n",
    "It shows the capabilities of analyzing and visualizing data using the J array programming language."
   ]
  },
  {
   "cell_type": "code",
   "execution_count": null,
   "metadata": {},
   "outputs": [],
   "source": [
    "NB. Required library scripts\n",
    "require 'tables/dsv'\n",
    "require 'graphics/plot'\n",
    "\n",
    "NB. Utility verbs\n",
    "chop =: 4 : '(y#i.#y)</.x'\n",
    "desc =: 3 : '>(I. (<y) E. 0{keys) { 1{keys'\n",
    "gets =: 4 : '(I. (<y) E. 0{|:x){x'\n",
    "gety =: 4 : '(I. (<y) E. 1{|:x){x'\n",
    "getm =: 4 : '(I. (<y) E. 2{|:x){x'\n",
    "vfmx =: 3 : '}:(,|.\"1 [ 1,.-. *./\\\"1 |.\"1 y='' '')#,y,.LF'\n",
    "lreg =: 4 : 'y %. 1 ,. x'\n",
    "\n",
    "NB. Read and format raw data, provide filter scripts\n",
    "data =: ('|';'') readdsv jpath '~user/Jupyter_Notebook_J_Example_Data/RainTemp_1864-2013.txt'\n",
    "data =: (I. (<'PAY') i. 0{|:data){data NB. Remove PAY (no data)\n",
    "stat =: ('|';'') readdsv jpath '~user/Jupyter_Notebook_J_Example_Data/Weather_Stations.txt'\n",
    "keys =: (2,$(~.0{|:data))$(~.0{|:data),(I.((1}.0{|:stat)e.(~.0{|:data))){1}.1{|:stat\n",
    "spym =: |: ((#data),2) $ (,/>1{|:data) chop ((2*#data) $ 4 2)\n",
    "data =: (0{|:data),.(0{spym),.(1{spym),.(\". each 2{|:data),.(\". each 3{|:data)\n",
    "mons =: '<All>';'Januar';'Februar';'März';'April';'Mai';'Juni';'Juli';'August';'September';'Oktober';'November';'Dezember'\n",
    "yeal =: \": (\".>1{0{data)+10*i.1+(>.(((\".>1{0{_1{.data)-(\".>1{0{data))%10))\n",
    "yeax =: \": i. # \". yeal\n",
    "monl =: 'Jan Feb Mär Apr Mai Jun Jul Aug Sep Okt Nov Dez'\n",
    "monx =: \": i. 12\n",
    "xtin =: \":((i.16)*((#(data gets >0{0{keys))%15))\n",
    "xlan =: yeal\n",
    "xtit =: \":((i.16)*((#(data gets >0{0{keys))%15))\n",
    "xlat =: yeal\n",
    "nied =: ,/>3{|:(data gets >0{0{keys)\n",
    "temp =: ,/>4{|:(data gets >0{0{keys)\n",
    "nreg =: ((1{((i.#nied) lreg nied))*(i.#nied))+(0{((i.#nied) lreg nied))\n",
    "treg =: ((1{((i.#temp) lreg temp))*(i.#temp))+(0{((i.#temp) lreg temp))\n",
    "ni3d =: (150,12)$,/>3{|:(data gets >0{0{keys)\n",
    "te3d =: (150,12)$,/>4{|:(data gets >0{0{keys)\n",
    "vpox =: 2.8\n",
    "vpoy =: _4\n",
    "vpoz =: 2.4"
   ]
  },
  {
   "cell_type": "code",
   "execution_count": null,
   "metadata": {},
   "outputs": [],
   "source": [
    "NB. Show keys (available weather stations)\n",
    "|:keys"
   ]
  },
  {
   "cell_type": "code",
   "execution_count": null,
   "metadata": {
    "scrolled": true
   },
   "outputs": [],
   "source": [
    "NB. Filter data on all years, weather station SMA, and month September (09)\n",
    "]d =: (data gets 'SMA') getm '09'"
   ]
  },
  {
   "cell_type": "code",
   "execution_count": null,
   "metadata": {},
   "outputs": [],
   "source": [
    "NB. Extract data for visualization, and calculate linear regression\n",
    "ra3d =: (150,12)$,/>3{|:(data gets 'SMA')\n",
    "te3d =: (150,12)$,/>4{|:(data gets 'SMA')\n",
    "rain =: ,/>3{|:d\n",
    "temp =: ,/>4{|:d\n",
    "rreg =: ((1{((i.#rain) lreg rain))*(i.#rain))+(0{((i.#rain) lreg rain))\n",
    "treg =: ((1{((i.#temp) lreg temp))*(i.#temp))+(0{((i.#temp) lreg temp))"
   ]
  },
  {
   "cell_type": "code",
   "execution_count": null,
   "metadata": {},
   "outputs": [],
   "source": [
    "NB. Set some plot options\n",
    "xtin =: \":((i.16)*((#d)%15))\n",
    "xlan =: yeal\n",
    "xtit =: \":((i.16)*((#d)%15))\n",
    "xlat =: yeal"
   ]
  },
  {
   "cell_type": "code",
   "execution_count": null,
   "metadata": {},
   "outputs": [],
   "source": [
    "NB. Plot/Visualize data in 4 sub-plots\n",
    "\n",
    "pd 'reset'\n",
    "pd 'sub 4 1'\n",
    "\n",
    "pd 'new'\n",
    "pd 'title Rain SMA / September'\n",
    "pd 'xticpos ',xtin\n",
    "pd 'xlabel  ',xlan\n",
    "pd rain\n",
    "pd rreg\n",
    "\n",
    "pd 'new'\n",
    "pd 'title Temperature SMA / September'\n",
    "pd 'xticpos ',xtit\n",
    "pd 'xlabel  ',xlat\n",
    "pd temp\n",
    "pd treg\n",
    "\n",
    "pd 'new'\n",
    "pd 'titlecolor white'\n",
    "pd 'title Rain'\n",
    "pd 'yticpos ',monx\n",
    "pd 'ylabel ',monl\n",
    "pd 'xticpos ',\":((i.16)*((#ra3d)%15))\n",
    "pd 'xlabel ',yeal\n",
    "pd 'type surface'\n",
    "pd 'backcolor black'\n",
    "pd 'axiscolor white'\n",
    "pd 'labelcolor white'\n",
    "pd 'bandcolor |.bgclr'\n",
    "pd 'viewpoint ',\":(vpox,vpoy,vpoz)\n",
    "pd ni3d\n",
    "\n",
    "pd 'new'\n",
    "pd 'keyfont arial 4'\n",
    "pd 'titlecolor white'\n",
    "pd 'title Temperature'\n",
    "pd 'yticpos ',monx\n",
    "pd 'ylabel ',monl\n",
    "pd 'xticpos ',\":((i.16)*((#te3d)%15))\n",
    "pd 'xlabel ',yeal\n",
    "pd 'type surface'\n",
    "pd 'backcolor black'\n",
    "pd 'axiscolor white'\n",
    "pd 'labelcolor white'\n",
    "pd 'viewpoint ',\":(vpox,vpoy,vpoz)\n",
    "pd te3d\n",
    "\n",
    "CANVAS_DEFSIZE_jwplot_ =: 600 1200\n",
    "pd 'show'"
   ]
  },
  {
   "cell_type": "code",
   "execution_count": null,
   "metadata": {},
   "outputs": [],
   "source": []
  }
 ],
 "metadata": {
  "kernelspec": {
   "display_name": "J",
   "language": "J",
   "name": "jkernel"
  },
  "language_info": {
   "file_extension": "ijs",
   "mimetype": "text/J",
   "name": "J"
  }
 },
 "nbformat": 4,
 "nbformat_minor": 4
}
