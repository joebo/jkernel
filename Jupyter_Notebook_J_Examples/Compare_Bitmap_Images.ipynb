{
 "cells": [
  {
   "cell_type": "markdown",
   "metadata": {},
   "source": [
    "# Compare Bitmap Images"
   ]
  },
  {
   "cell_type": "markdown",
   "metadata": {},
   "source": [
    "In this example we want to compare two mechanical drawings (raster images) to see the differences."
   ]
  },
  {
   "cell_type": "code",
   "execution_count": null,
   "metadata": {},
   "outputs": [],
   "source": [
    "NB. Load required scripts\n",
    "load 'graphics/bmp viewmat'"
   ]
  },
  {
   "cell_type": "code",
   "execution_count": null,
   "metadata": {},
   "outputs": [],
   "source": [
    "NB. Read first bitmap image\n",
    "i1 =: readbmp jpath '~user/Jupyter_Notebook_J_Example_Data/assembly1.bmp'"
   ]
  },
  {
   "cell_type": "code",
   "execution_count": null,
   "metadata": {},
   "outputs": [],
   "source": [
    "NB. Show first bitmap image\n",
    "viewrgb i1"
   ]
  },
  {
   "cell_type": "code",
   "execution_count": null,
   "metadata": {},
   "outputs": [],
   "source": [
    "NB. Read second bitmap image\n",
    "i2 =: readbmp jpath '~user/Jupyter_Notebook_J_Example_Data/assembly2.bmp'"
   ]
  },
  {
   "cell_type": "code",
   "execution_count": null,
   "metadata": {},
   "outputs": [],
   "source": [
    "NB. Show second bitmap image\n",
    "viewrgb i2"
   ]
  },
  {
   "cell_type": "code",
   "execution_count": null,
   "metadata": {},
   "outputs": [],
   "source": [
    "NB. Utility verb to create an integer representation from an RGB triple\n",
    "RGB =: 3 : 0\n",
    "   r =. |:0{|:y\n",
    "   g =. |:1{|:y\n",
    "   b =. |:2{|:y\n",
    "   i =. <.((r*2^16)+(g*2^8)+b)\n",
    ")"
   ]
  },
  {
   "cell_type": "code",
   "execution_count": null,
   "metadata": {},
   "outputs": [],
   "source": [
    "NB. First compare the arrays i1,i2 then multiply the result with i1\n",
    "ia =: i1 * i1 = i2"
   ]
  },
  {
   "cell_type": "code",
   "execution_count": null,
   "metadata": {},
   "outputs": [],
   "source": [
    "NB. Show the resulting bitmap image\n",
    "viewrgb ia"
   ]
  },
  {
   "cell_type": "code",
   "execution_count": null,
   "metadata": {},
   "outputs": [],
   "source": [
    "NB. We extract the differences and color them in red\n",
    "ib =: (RGB 255,0,0) * ia e. 0"
   ]
  },
  {
   "cell_type": "code",
   "execution_count": null,
   "metadata": {},
   "outputs": [],
   "source": [
    "viewrgb ib"
   ]
  },
  {
   "cell_type": "code",
   "execution_count": null,
   "metadata": {},
   "outputs": [],
   "source": [
    "NB. Join both images using OR\n",
    "id =: ia +. ib"
   ]
  },
  {
   "cell_type": "code",
   "execution_count": null,
   "metadata": {},
   "outputs": [],
   "source": [
    "NB. Show image differences in red\n",
    "viewrgb id"
   ]
  },
  {
   "cell_type": "code",
   "execution_count": null,
   "metadata": {},
   "outputs": [],
   "source": []
  }
 ],
 "metadata": {
  "kernelspec": {
   "display_name": "J",
   "language": "J",
   "name": "jkernel"
  },
  "language_info": {
   "file_extension": "ijs",
   "mimetype": "text/J",
   "name": "J"
  }
 },
 "nbformat": 4,
 "nbformat_minor": 4
}
